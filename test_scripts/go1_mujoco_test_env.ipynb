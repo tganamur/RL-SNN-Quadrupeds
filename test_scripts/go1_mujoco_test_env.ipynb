{
 "cells": [
  {
   "cell_type": "markdown",
   "metadata": {},
   "source": [
    "Notebook for practicing with the mujoco environment and API"
   ]
  },
  {
   "cell_type": "markdown",
   "metadata": {},
   "source": [
    "The following are some of the requirements in addition to the `requirements.txt` file.\n",
    "\n",
    "```\n",
    "mujoco-python-viewer==0.1.4\n",
    "ipykernel\n",
    "```"
   ]
  },
  {
   "cell_type": "code",
   "execution_count": 35,
   "metadata": {},
   "outputs": [],
   "source": [
    "import mujoco\n",
    "import mujoco_viewer\n",
    "\n",
    "# scene.xml includes the robot model and a simple environment\n",
    "model = mujoco.MjModel.from_xml_path(\"../unitree_go1/scene_position.xml\")\n",
    "\n",
    "# Contains the state of the model (time: .time, pos: .qpos, vel: .qvel) \n",
    "data = mujoco.MjData(model)"
   ]
  },
  {
   "cell_type": "code",
   "execution_count": 36,
   "metadata": {},
   "outputs": [
    {
     "name": "stdout",
     "output_type": "stream",
     "text": [
      "model.geom: \"Invalid name ''. Valid names: ['FL', 'FR', 'RL', 'RR', 'floor']\"\n",
      "data.geom: \"Invalid name ''. Valid names: ['FL', 'FR', 'RL', 'RR', 'floor']\"\n",
      "data.body: \"Invalid name ''. Valid names: ['FL_calf', 'FL_hip', 'FL_thigh', 'FR_calf', 'FR_hip', 'FR_thigh', 'RL_calf', 'RL_hip', 'RL_thigh', 'RR_calf', 'RR_hip', 'RR_thigh', 'trunk', 'world']\"\n"
     ]
    },
    {
     "data": {
      "text/plain": [
       "<_MjDataBodyViews\n",
       "  cacc: array([0., 0., 0., 0., 0., 0.])\n",
       "  cfrc_ext: array([0., 0., 0., 0., 0., 0.])\n",
       "  cfrc_int: array([0., 0., 0., 0., 0., 0.])\n",
       "  cinert: array([0., 0., 0., 0., 0., 0., 0., 0., 0., 0.])\n",
       "  crb: array([0., 0., 0., 0., 0., 0., 0., 0., 0., 0.])\n",
       "  cvel: array([0., 0., 0., 0., 0., 0.])\n",
       "  id: 1\n",
       "  name: 'trunk'\n",
       "  subtree_angmom: array([0., 0., 0.])\n",
       "  subtree_com: array([0., 0., 0.])\n",
       "  subtree_linvel: array([0., 0., 0.])\n",
       "  xfrc_applied: array([0., 0., 0., 0., 0., 0.])\n",
       "  ximat: array([0., 0., 0., 0., 0., 0., 0., 0., 0.])\n",
       "  xipos: array([0., 0., 0.])\n",
       "  xmat: array([0., 0., 0., 0., 0., 0., 0., 0., 0.])\n",
       "  xpos: array([0., 0., 0.])\n",
       "  xquat: array([0., 0., 0., 0.])\n",
       ">"
      ]
     },
     "execution_count": 36,
     "metadata": {},
     "output_type": "execute_result"
    }
   ],
   "source": [
    "# Print out the name of the body accessors\n",
    "try:\n",
    "    model.geom()\n",
    "except KeyError as e:\n",
    "    print(f\"model.geom: {e}\")\n",
    "    \n",
    "try:\n",
    "    data.geom()\n",
    "except KeyError as e:\n",
    "    print(f\"data.geom: {e}\")\n",
    "    \n",
    "try:\n",
    "    data.body()\n",
    "except KeyError as e:\n",
    "    print(f\"data.body: {e}\")\n",
    "    \n",
    "    \n",
    "trunk_id = mujoco.mj_name2id(model, mujoco.mjtObj.mjOBJ_BODY.value, \"trunk\")\n",
    "data.body(trunk_id)"
   ]
  },
  {
   "cell_type": "code",
   "execution_count": 37,
   "metadata": {},
   "outputs": [
    {
     "data": {
      "text/plain": [
       "<_MjModelGeomViews\n",
       "  bodyid: array([7])\n",
       "  conaffinity: array([1])\n",
       "  condim: array([6])\n",
       "  contype: array([1])\n",
       "  dataid: array([-1])\n",
       "  friction: array([2.  , 0.02, 0.01])\n",
       "  gap: array([0.])\n",
       "  group: array([3])\n",
       "  id: 31\n",
       "  margin: array([0.001])\n",
       "  matid: array([-1])\n",
       "  name: 'FL'\n",
       "  pos: array([ 0.   ,  0.   , -0.213])\n",
       "  priority: array([1])\n",
       "  quat: array([1., 0., 0., 0.])\n",
       "  rbound: array([0.023])\n",
       "  rgba: array([0.5, 0.5, 0.5, 1. ], dtype=float32)\n",
       "  sameframe: array([0], dtype=uint8)\n",
       "  size: array([0.023, 0.   , 0.   ])\n",
       "  solimp: array([0.015, 1.   , 0.031, 0.5  , 2.   ])\n",
       "  solmix: array([1.])\n",
       "  solref: array([0.02, 1.  ])\n",
       "  type: array([2])\n",
       "  user: array([], dtype=float64)\n",
       ">"
      ]
     },
     "execution_count": 37,
     "metadata": {},
     "output_type": "execute_result"
    }
   ],
   "source": [
    "model.geom(\"FL\")"
   ]
  },
  {
   "cell_type": "code",
   "execution_count": 38,
   "metadata": {},
   "outputs": [
    {
     "name": "stdout",
     "output_type": "stream",
     "text": [
      "Simulated time: 0.0 sec\n",
      "Default timestep: 0.002 sec\n",
      "Degrees of freedom: model.nv=18\n",
      "len(data.qpos)=19 data.qpos=array([0.   , 0.   , 0.445, 1.   , 0.   , 0.   , 0.   , 0.   , 0.   ,\n",
      "       0.   , 0.   , 0.   , 0.   , 0.   , 0.   , 0.   , 0.   , 0.   ,\n",
      "       0.   ])\n",
      "len(data.qvel)=18 data.qvel=array([0., 0., 0., 0., 0., 0., 0., 0., 0., 0., 0., 0., 0., 0., 0., 0., 0.,\n",
      "       0.])\n",
      "len(data.xpos)=14 data.xpos=array([[0., 0., 0.],\n",
      "       [0., 0., 0.],\n",
      "       [0., 0., 0.],\n",
      "       [0., 0., 0.],\n",
      "       [0., 0., 0.],\n",
      "       [0., 0., 0.],\n",
      "       [0., 0., 0.],\n",
      "       [0., 0., 0.],\n",
      "       [0., 0., 0.],\n",
      "       [0., 0., 0.],\n",
      "       [0., 0., 0.],\n",
      "       [0., 0., 0.],\n",
      "       [0., 0., 0.],\n",
      "       [0., 0., 0.]])\n",
      "len(data.site_xpos)=6 data.site_xpos=array([[0., 0., 0.],\n",
      "       [0., 0., 0.],\n",
      "       [0., 0., 0.],\n",
      "       [0., 0., 0.],\n",
      "       [0., 0., 0.],\n",
      "       [0., 0., 0.]])\n"
     ]
    }
   ],
   "source": [
    "print(f\"Simulated time: {data.time} sec\")\n",
    "print(f\"Default timestep: {model.opt.timestep} sec\")\n",
    "print(f\"Degrees of freedom: {model.nv=}\")\n",
    "\n",
    "# Position has 1 extra dimension since orientation is represented with\n",
    "# quaternions (4-values) while angular velocity has 3 values.\n",
    "print(f\"{len(data.qpos)=} {data.qpos=}\")\n",
    "print(f\"{len(data.qvel)=} {data.qvel=}\")\n",
    "print(f\"{len(data.xpos)=} {data.xpos=}\")\n",
    "print(f\"{len(data.site_xpos)=} {data.site_xpos=}\")"
   ]
  },
  {
   "cell_type": "code",
   "execution_count": 39,
   "metadata": {},
   "outputs": [
    {
     "name": "stdout",
     "output_type": "stream",
     "text": [
      "test=array([0.68859572, 0.78915908, 0.87445241, 0.38744933, 0.09264684,\n",
      "       0.26109662])\n"
     ]
    },
    {
     "data": {
      "text/plain": [
       "array([ 0.        , 92.58078729,  0.        ,  0.        ])"
      ]
     },
     "execution_count": 39,
     "metadata": {},
     "output_type": "execute_result"
    }
   ],
   "source": [
    "import numpy as np\n",
    "test = np.random.default_rng().random((6,))\n",
    "print(f\"{test=}\")\n",
    "test[[1,2,3]]\n",
    "\n",
    "test = np.array(\n",
    "    [\n",
    "        [0.0, 0.0, 0.0, 0.0, 0.0, 0.0],\n",
    "        [1.15107938, 3.52610336, 1.92656158, -44.7217547, -13.81049405, 79.76820831],\n",
    "        [0.0, 0.0, 0.0, 0.0, 0.0, 0.0],\n",
    "        [0.0, 0.0, 0.0, 0.0, 0.0, 0.0],\n",
    "    ]\n",
    ")\n",
    "np.linalg.norm(test, axis=1)"
   ]
  },
  {
   "cell_type": "code",
   "execution_count": 40,
   "metadata": {},
   "outputs": [
    {
     "name": "stdout",
     "output_type": "stream",
     "text": [
      "len(data.ctrl)=12 data.ctrl=array([ 0. ,  0.9, -1.8,  0. ,  0.9, -1.8,  0. ,  0.9, -1.8,  0. ,  0.9,\n",
      "       -1.8])\n",
      "ctrl/torque range defined in motor ctrlrange in xml: model.actuator_ctrlrange=array([[-0.863,  0.863],\n",
      "       [-0.686,  4.501],\n",
      "       [-2.818, -0.888],\n",
      "       [-0.863,  0.863],\n",
      "       [-0.686,  4.501],\n",
      "       [-2.818, -0.888],\n",
      "       [-0.863,  0.863],\n",
      "       [-0.686,  4.501],\n",
      "       [-2.818, -0.888],\n",
      "       [-0.863,  0.863],\n",
      "       [-0.686,  4.501],\n",
      "       [-2.818, -0.888]])\n",
      "['FR_hip', 'FR_thigh', 'FR_calf', 'FL_hip', 'FL_thigh', 'FL_calf', 'RR_hip', 'RR_thigh', 'RR_calf', 'RL_hip', 'RL_thigh', 'RL_calf', None, None, None, None, None, None]\n",
      "model.actuator_ctrlrange=array([[-0.863,  0.863],\n",
      "       [-0.686,  4.501],\n",
      "       [-2.818, -0.888],\n",
      "       [-0.863,  0.863],\n",
      "       [-0.686,  4.501],\n",
      "       [-2.818, -0.888],\n",
      "       [-0.863,  0.863],\n",
      "       [-0.686,  4.501],\n",
      "       [-2.818, -0.888],\n",
      "       [-0.863,  0.863],\n",
      "       [-0.686,  4.501],\n",
      "       [-2.818, -0.888]])\n",
      "model.jnt_range=array([[ 0.   ,  0.   ],\n",
      "       [-0.863,  0.863],\n",
      "       [-0.686,  4.501],\n",
      "       [-2.818, -0.888],\n",
      "       [-0.863,  0.863],\n",
      "       [-0.686,  4.501],\n",
      "       [-2.818, -0.888],\n",
      "       [-0.863,  0.863],\n",
      "       [-0.686,  4.501],\n",
      "       [-2.818, -0.888],\n",
      "       [-0.863,  0.863],\n",
      "       [-0.686,  4.501],\n",
      "       [-2.818, -0.888]])\n"
     ]
    }
   ],
   "source": [
    "import numpy as np\n",
    "import time\n",
    "# Setup viewer\n",
    "viewer = mujoco_viewer.MujocoViewer(model, data)\n",
    "\n",
    "# Reset the simulation\n",
    "mujoco.mj_resetDataKeyframe(model, data, 0)\n",
    "\n",
    "# print(f\"{data.site_xpos=}\")\n",
    "print(f\"{len(data.ctrl)=} {data.ctrl=}\")\n",
    "print(f\"ctrl/torque range defined in motor ctrlrange in xml: {model.actuator_ctrlrange=}\")\n",
    "# mult = 1.0\n",
    "# data.ctrl[1:3] = np.ones(2) * mult\n",
    "# data.ctrl[4:6] = np.ones(2) * mult\n",
    "# data.ctrl[7:9] = np.ones(2) * mult\n",
    "# data.ctrl[10:12] = np.ones(2) * mult\n",
    "\n",
    "#data.qvel[3:5] = 10\n",
    "# data.qpos[4:6] = np.deg2rad(30)\n",
    "\n",
    "_cfrc_ext_feet_indices = [4, 7, 10, 13]  # 4:FR, 7:FL, 10:RR, 13:RL\n",
    "feet_site = [\n",
    "    \"FR\",\n",
    "    \"FL\",\n",
    "    \"RR\",\n",
    "    \"RL\",\n",
    "]\n",
    "feet_site_indices = [mujoco.mj_name2id(model, mujoco.mjtObj.mjOBJ_SITE.value, f)\n",
    "    for f in feet_site]\n",
    "\n",
    "\n",
    "print([mujoco.mj_id2name(model, mujoco.mjtObj.mjOBJ_ACTUATOR.value, i)\n",
    "    for i in range(len(data.qfrc_actuator))])\n",
    "\n",
    "# data.ctrl[:] = 2\n",
    "\n",
    "# init_qpos = data.qpos.ravel().copy()\n",
    "# init_qvel = data.qvel.ravel().copy()\n",
    "# print(f\"{init_qpos=}\")\n",
    "# print(f\"{init_qvel=}\")\n",
    "\n",
    "# print(f\"{model.key_qpos=}\")\n",
    "# print(f\"{model.key_ctrl=}\")\n",
    "\n",
    "\n",
    "# data.qpos[:] = model.key_qpos\n",
    "# data.ctrl[:] = (\n",
    "#     model.key_ctrl\n",
    "# )\n",
    "# data.ctrl[[2, 5]] = -1.8\n",
    "# print(len(data.qpos))\n",
    "print(f\"{model.actuator_ctrlrange=}\")\n",
    "\n",
    "dof_position_limit_multiplier = 0.9 # The % of the range that is not penalized\n",
    "ctrl_range_offset = 0.5 * (1 - dof_position_limit_multiplier) * (model.actuator_ctrlrange[:, 1] - model.actuator_ctrlrange[:, 0])\n",
    "_soft_ctrl_range = np.copy(model.actuator_ctrlrange)\n",
    "_soft_ctrl_range[:, 0] += ctrl_range_offset\n",
    "_soft_ctrl_range[:, 1] -= ctrl_range_offset\n",
    "\n",
    "print(f\"{model.jnt_range=}\")\n",
    "\n",
    "for _ in range(1000):\n",
    "    if viewer.is_alive:\n",
    "        mujoco.mj_step(model, data)\n",
    "        mujoco.mj_forward(model, data)\n",
    "        mujoco.mj_rnePostConstraint(model, data)\n",
    "        \n",
    "        \n",
    "        feet_contact_force_mag = np.linalg.norm(data.cfrc_ext[_cfrc_ext_feet_indices])\n",
    "        curr_contact = feet_contact_force_mag > 0.1\n",
    "        contacting_feet = data.site_xpos[feet_site_indices] * curr_contact\n",
    "        # print(f\"{contacting_feet=}\")\n",
    "        \n",
    "        mujoco.mj_fwdActuation(model, data)\n",
    "        # print(f\"{data.qfrc_actuator[-12:]=}\")\n",
    "        \n",
    "        # data.ctrl[:] = model.key_ctrl\n",
    "        \n",
    "        # data.qpos[6] *= 0.99\n",
    "        \n",
    "        \n",
    "        \n",
    "        # print(f\"{data.qvel[5]=}\")\n",
    "        \n",
    "        viewer.render()\n",
    "        time.sleep(0.01)\n",
    "        # 6 arrays, each wi\n",
    "        # th 14 values\n",
    "        # [4][10]: rightside, [7][13]: leftside\n",
    "        # [7][4]: front\n",
    "        # 4:fromright\n",
    "        # 7:frontleft\n",
    "        # 10:backright\n",
    "        # 13:backleft\n",
    "        # print(f\"{len(data.cfrc_ext)=} {data.cfrc_ext[0][0].shape=} {data.cfrc_ext[4]=}\")\n",
    "        # sites in MJCF models: https://mujoco.readthedocs.io/en/stable/XMLreference.html#body-site\n",
    "        # 6 in the Go1 model xml file\n",
    "        \n",
    "        feet_site = [\n",
    "            'FR',\n",
    "            'FL',\n",
    "            'RR',\n",
    "            'RL',\n",
    "        ]\n",
    "        feet_site_name_to_id = {\n",
    "            f: mujoco.mj_name2id(model, mujoco.mjtObj.mjOBJ_SITE.value, f)\n",
    "            for f in feet_site\n",
    "        }\n",
    "        # print(f\"torques {data.ctrl=}\")\n",
    "        # print(f\"pos {len(data.qpos)=}: {data.qpos[2]}\")\n",
    "        # print(f\"{feet_site_id=}\")\n",
    "        # print(f\"z heights {data.site_xpos[2:, 2]=}\")\n",
    "        # print(f\"{data.site_xpos[feet_site_name_to_id['RR']]=}\")\n",
    "        # print(f\"{data.xpos=}\")\n",
    "    else:\n",
    "        break\n",
    "\n",
    "viewer.close()"
   ]
  }
 ],
 "metadata": {
  "kernelspec": {
   "display_name": ".venv",
   "language": "python",
   "name": "python3"
  },
  "language_info": {
   "codemirror_mode": {
    "name": "ipython",
    "version": 3
   },
   "file_extension": ".py",
   "mimetype": "text/x-python",
   "name": "python",
   "nbconvert_exporter": "python",
   "pygments_lexer": "ipython3",
   "version": "3.8.10"
  }
 },
 "nbformat": 4,
 "nbformat_minor": 2
}
